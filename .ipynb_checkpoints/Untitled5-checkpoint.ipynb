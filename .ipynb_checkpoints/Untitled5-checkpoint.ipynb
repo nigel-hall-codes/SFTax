{
 "cells": [
  {
   "cell_type": "code",
   "execution_count": 26,
   "metadata": {},
   "outputs": [],
   "source": [
    "from datetime import datetime\n",
    "import numpy as np\n",
    "import pandas as pd\n",
    "\n",
    "import plotly.plotly as py\n",
    "from plotly.graph_objs import *\n",
    "from plotly.grid_objs import Grid, Column\n",
    "import plotly\n",
    "import zipcodes\n",
    "from sklearn.preprocessing import scale\n",
    "import plotly.plotly as py\n",
    "import plotly.graph_objs as go\n",
    "import time\n",
    "\n",
    "\n",
    "plotly.tools.set_credentials_file(username='graphdude', api_key='Cg2SFmNYy4XfTaGHTHro')\n",
    "\n",
    "mapbox_access_token = 'pk.eyJ1IjoibmlnZWxoYWxsMSIsImEiOiJjanc2enhqZ3Axb3pvNDRwY3Rlam5rdmpjIn0.Mm898m2mXrYY0K-2JxStEg'"
   ]
  },
  {
   "cell_type": "markdown",
   "metadata": {},
   "source": [
    "# Select Data"
   ]
  },
  {
   "cell_type": "code",
   "execution_count": 27,
   "metadata": {},
   "outputs": [
    {
     "data": {
      "text/html": [
       "<div>\n",
       "<style scoped>\n",
       "    .dataframe tbody tr th:only-of-type {\n",
       "        vertical-align: middle;\n",
       "    }\n",
       "\n",
       "    .dataframe tbody tr th {\n",
       "        vertical-align: top;\n",
       "    }\n",
       "\n",
       "    .dataframe thead th {\n",
       "        text-align: right;\n",
       "    }\n",
       "</style>\n",
       "<table border=\"1\" class=\"dataframe\">\n",
       "  <thead>\n",
       "    <tr style=\"text-align: right;\">\n",
       "      <th></th>\n",
       "      <th>Unnamed: 0</th>\n",
       "      <th>ROLLYEAR</th>\n",
       "      <th>Mail Zipcode</th>\n",
       "      <th>new business count</th>\n",
       "      <th>pct_change</th>\n",
       "      <th>median land value price</th>\n",
       "      <th>lat</th>\n",
       "      <th>long</th>\n",
       "      <th>scaled new business count</th>\n",
       "      <th>scaled pct change</th>\n",
       "    </tr>\n",
       "  </thead>\n",
       "  <tbody>\n",
       "    <tr>\n",
       "      <th>0</th>\n",
       "      <td>152</td>\n",
       "      <td>2014</td>\n",
       "      <td>94110</td>\n",
       "      <td>418.0</td>\n",
       "      <td>0.062268</td>\n",
       "      <td>242810.0</td>\n",
       "      <td>37.74</td>\n",
       "      <td>-122.41</td>\n",
       "      <td>3.571636</td>\n",
       "      <td>-0.044821</td>\n",
       "    </tr>\n",
       "    <tr>\n",
       "      <th>1</th>\n",
       "      <td>151</td>\n",
       "      <td>2013</td>\n",
       "      <td>94110</td>\n",
       "      <td>399.0</td>\n",
       "      <td>0.092849</td>\n",
       "      <td>228577.0</td>\n",
       "      <td>37.74</td>\n",
       "      <td>-122.41</td>\n",
       "      <td>3.368907</td>\n",
       "      <td>0.167473</td>\n",
       "    </tr>\n",
       "    <tr>\n",
       "      <th>2</th>\n",
       "      <td>109</td>\n",
       "      <td>2013</td>\n",
       "      <td>94103</td>\n",
       "      <td>396.0</td>\n",
       "      <td>0.068476</td>\n",
       "      <td>302853.0</td>\n",
       "      <td>37.77</td>\n",
       "      <td>-122.41</td>\n",
       "      <td>3.336897</td>\n",
       "      <td>-0.001727</td>\n",
       "    </tr>\n",
       "    <tr>\n",
       "      <th>3</th>\n",
       "      <td>150</td>\n",
       "      <td>2012</td>\n",
       "      <td>94110</td>\n",
       "      <td>369.0</td>\n",
       "      <td>0.104932</td>\n",
       "      <td>209157.0</td>\n",
       "      <td>37.74</td>\n",
       "      <td>-122.41</td>\n",
       "      <td>3.048809</td>\n",
       "      <td>0.251355</td>\n",
       "    </tr>\n",
       "    <tr>\n",
       "      <th>4</th>\n",
       "      <td>130</td>\n",
       "      <td>2013</td>\n",
       "      <td>94107</td>\n",
       "      <td>361.0</td>\n",
       "      <td>0.118523</td>\n",
       "      <td>313200.0</td>\n",
       "      <td>37.76</td>\n",
       "      <td>-122.39</td>\n",
       "      <td>2.963449</td>\n",
       "      <td>0.345707</td>\n",
       "    </tr>\n",
       "  </tbody>\n",
       "</table>\n",
       "</div>"
      ],
      "text/plain": [
       "   Unnamed: 0  ROLLYEAR Mail Zipcode  new business count  pct_change  \\\n",
       "0         152      2014        94110               418.0    0.062268   \n",
       "1         151      2013        94110               399.0    0.092849   \n",
       "2         109      2013        94103               396.0    0.068476   \n",
       "3         150      2012        94110               369.0    0.104932   \n",
       "4         130      2013        94107               361.0    0.118523   \n",
       "\n",
       "   median land value price    lat     long  scaled new business count  \\\n",
       "0                 242810.0  37.74  -122.41                   3.571636   \n",
       "1                 228577.0  37.74  -122.41                   3.368907   \n",
       "2                 302853.0  37.77  -122.41                   3.336897   \n",
       "3                 209157.0  37.74  -122.41                   3.048809   \n",
       "4                 313200.0  37.76  -122.39                   2.963449   \n",
       "\n",
       "   scaled pct change  \n",
       "0          -0.044821  \n",
       "1           0.167473  \n",
       "2          -0.001727  \n",
       "3           0.251355  \n",
       "4           0.345707  "
      ]
     },
     "execution_count": 27,
     "metadata": {},
     "output_type": "execute_result"
    }
   ],
   "source": [
    "def lat(row):\n",
    "    zips = zipcodes.matching(row['Mail Zipcode'])\n",
    "    for zip_code in zips:\n",
    "        if zip_code['city'] == \"SAN FRANCISCO\":\n",
    "            return str(zip_code['lat'])\n",
    "        \n",
    "def long(row):\n",
    "    zips = zipcodes.matching(row['Mail Zipcode'])\n",
    "    for zip_code in zips:\n",
    "        if zip_code['city'] == \"SAN FRANCISCO\":\n",
    "            return str(zip_code['long'])\n",
    "        \n",
    "\n",
    "\n",
    "\n",
    "df = pd.read_csv(\"/Users/nigel/SFPropertyTax/sf_new_business_neighborhood_price_appreciation.csv\")\n",
    "df.head()\n",
    "df['Mail Zipcode'] = df['Mail Zipcode'].astype(str)\n",
    "df['lat'] = df.apply(lat, axis=1)\n",
    "df['long'] = df.apply(long, axis=1)\n",
    "df['scaled new business count'] = scale(df['new business count'])\n",
    "df['scaled pct change'] = scale(df['pct_change'])\n",
    "\n",
    "years = df['ROLLYEAR'].unique()\n",
    "\n",
    "df.head()"
   ]
  },
  {
   "cell_type": "markdown",
   "metadata": {},
   "source": [
    "# Make the Grid"
   ]
  },
  {
   "cell_type": "code",
   "execution_count": 28,
   "metadata": {},
   "outputs": [
    {
     "data": {
      "text/plain": [
       "'https://plot.ly/~graphdude/31/'"
      ]
     },
     "execution_count": 28,
     "metadata": {},
     "output_type": "execute_result"
    }
   ],
   "source": [
    "years = df['ROLLYEAR'].unique()\n",
    "zip_codes = df['Mail Zipcode'].unique()\n",
    "\n",
    "columns = []\n",
    "\n",
    "for year in years:\n",
    "    for zip_code in zip_codes:\n",
    "        dataset_by_year_zip_code = df[(df['ROLLYEAR'] == year) & (df['Mail Zipcode'] == zip_code)]\n",
    "        for col_name in dataset_by_year_zip_code:\n",
    "            # each column name is unique\n",
    "            column_name = '{year}_{zip_code}_{header}_gapminder_grid'.format(\n",
    "                year=year, zip_code=zip_code, header=col_name\n",
    "            )\n",
    "            a_column = Column(list(dataset_by_year_zip_code[col_name]), column_name)\n",
    "            columns.append(a_column)\n",
    "\n",
    "            \n",
    "grid = Grid(columns)\n",
    "url = py.grid_ops.upload(grid, 'gapminder_grid'+str(time.time()), auto_open=False)\n",
    "url"
   ]
  },
  {
   "cell_type": "markdown",
   "metadata": {},
   "source": [
    "# Create Figure"
   ]
  },
  {
   "cell_type": "code",
   "execution_count": 17,
   "metadata": {},
   "outputs": [],
   "source": [
    "figure = {\n",
    "    'data': [],\n",
    "    'layout': {},\n",
    "    'frames': [],\n",
    "    'config': {'scrollzoom': True}\n",
    "}\n",
    "    "
   ]
  },
  {
   "cell_type": "markdown",
   "metadata": {},
   "source": [
    "# Create Layout"
   ]
  },
  {
   "cell_type": "code",
   "execution_count": 18,
   "metadata": {},
   "outputs": [],
   "source": [
    "\n",
    "\n",
    "layout = go.Layout(\n",
    "    autosize=True,\n",
    "    hovermode='closest',\n",
    "    mapbox=go.layout.Mapbox(\n",
    "        accesstoken=mapbox_access_token,\n",
    "        bearing=0,\n",
    "        center=go.layout.mapbox.Center(\n",
    "            lat=37.74,\n",
    "            lon=-122.4241\n",
    "        ),\n",
    "        pitch=0,\n",
    "        zoom=10.50\n",
    "    ),\n",
    "   \n",
    ")"
   ]
  },
  {
   "cell_type": "code",
   "execution_count": null,
   "metadata": {},
   "outputs": [],
   "source": []
  }
 ],
 "metadata": {
  "kernelspec": {
   "display_name": "Python 3",
   "language": "python",
   "name": "python3"
  },
  "language_info": {
   "codemirror_mode": {
    "name": "ipython",
    "version": 3
   },
   "file_extension": ".py",
   "mimetype": "text/x-python",
   "name": "python",
   "nbconvert_exporter": "python",
   "pygments_lexer": "ipython3",
   "version": "3.7.0"
  }
 },
 "nbformat": 4,
 "nbformat_minor": 2
}
